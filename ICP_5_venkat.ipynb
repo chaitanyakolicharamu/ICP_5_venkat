{
  "nbformat": 4,
  "nbformat_minor": 0,
  "metadata": {
    "colab": {
      "provenance": [],
      "authorship_tag": "ABX9TyO7BchQFFZxwyA2WSKdLpyb",
      "include_colab_link": true
    },
    "kernelspec": {
      "name": "python3",
      "display_name": "Python 3"
    },
    "language_info": {
      "name": "python"
    }
  },
  "cells": [
    {
      "cell_type": "markdown",
      "metadata": {
        "id": "view-in-github",
        "colab_type": "text"
      },
      "source": [
        "<a href=\"https://colab.research.google.com/github/chaitanyakolicharamu/ICP_5_venkat/blob/main/ICP_5_venkat.ipynb\" target=\"_parent\"><img src=\"https://colab.research.google.com/assets/colab-badge.svg\" alt=\"Open In Colab\"/></a>"
      ]
    },
    {
      "cell_type": "code",
      "execution_count": 1,
      "metadata": {
        "id": "kdlK3o7CuDuB"
      },
      "outputs": [],
      "source": [
        "import pandas as pd\n",
        "from sklearn.model_selection import train_test_split, RandomizedSearchCV\n",
        "from sklearn.pipeline import Pipeline\n",
        "from sklearn.preprocessing import StandardScaler\n",
        "from sklearn.decomposition import PCA\n",
        "from sklearn.ensemble import RandomForestClassifier\n",
        "from sklearn.metrics import accuracy_score\n"
      ]
    },
    {
      "cell_type": "code",
      "source": [
        "# Load the Iris dataset\n",
        "df = pd.read_csv(\"/content/Iris.csv\")\n",
        "\n",
        "# Drop the 'Id' column if it exists\n",
        "df = df.drop(columns=[\"Id\"], errors=\"ignore\")\n",
        "\n",
        "# Define features and target\n",
        "X = df.drop(\"Species\", axis=1)\n",
        "y = df[\"Species\"]\n"
      ],
      "metadata": {
        "id": "P0scbCSPvz8g"
      },
      "execution_count": 2,
      "outputs": []
    },
    {
      "cell_type": "code",
      "source": [
        "# Split data into training and test sets\n",
        "X_train, X_test, y_train, y_test = train_test_split(\n",
        "    X, y, test_size=0.2, random_state=42, stratify=y\n",
        ")\n"
      ],
      "metadata": {
        "id": "tPYfJl5iv2_B"
      },
      "execution_count": 3,
      "outputs": []
    },
    {
      "cell_type": "code",
      "source": [
        "pipe = Pipeline([\n",
        "    (\"scaler\", StandardScaler()),\n",
        "    (\"pca\", PCA()),\n",
        "    (\"classifier\", RandomForestClassifier(random_state=42))\n",
        "])\n"
      ],
      "metadata": {
        "id": "C78msVxfv6XI"
      },
      "execution_count": 4,
      "outputs": []
    },
    {
      "cell_type": "code",
      "source": [
        "param_grid = {\n",
        "    \"pca__n_components\": [2, 3, 4],\n",
        "    \"classifier__n_estimators\": [50, 100, 150],\n",
        "    \"classifier__max_depth\": [3, 5, None],\n",
        "    \"classifier__min_samples_split\": [2, 4, 6]\n",
        "}\n"
      ],
      "metadata": {
        "id": "dyR0YaOfv9de"
      },
      "execution_count": 5,
      "outputs": []
    },
    {
      "cell_type": "code",
      "source": [
        "search_3 = RandomizedSearchCV(\n",
        "    pipe, param_distributions=param_grid, cv=3, n_iter=10, random_state=42\n",
        ")\n",
        "search_3.fit(X_train, y_train)\n",
        "\n",
        "print(\"CV=3\")\n",
        "print(\"Best Params:\", search_3.best_params_)\n",
        "print(\"Train CV Score: {:.2f}\".format(search_3.best_score_))\n",
        "print(\"Test Score: {:.2f}\".format(search_3.score(X_test, y_test)))\n"
      ],
      "metadata": {
        "colab": {
          "base_uri": "https://localhost:8080/"
        },
        "id": "-yhN-bDEwA2N",
        "outputId": "2a883c15-91b9-4dd4-fdf2-24891d5b28aa"
      },
      "execution_count": 6,
      "outputs": [
        {
          "output_type": "stream",
          "name": "stdout",
          "text": [
            "CV=3\n",
            "Best Params: {'pca__n_components': 3, 'classifier__n_estimators': 150, 'classifier__min_samples_split': 4, 'classifier__max_depth': None}\n",
            "Train CV Score: 0.92\n",
            "Test Score: 0.90\n"
          ]
        }
      ]
    },
    {
      "cell_type": "code",
      "source": [
        "search_5 = RandomizedSearchCV(\n",
        "    pipe, param_distributions=param_grid, cv=5, n_iter=10, random_state=42\n",
        ")\n",
        "search_5.fit(X_train, y_train)\n",
        "\n",
        "print(\"CV=5\")\n",
        "print(\"Best Params:\", search_5.best_params_)\n",
        "print(\"Train CV Score: {:.2f}\".format(search_5.best_score_))\n",
        "print(\"Test Score: {:.2f}\".format(search_5.score(X_test, y_test)))\n"
      ],
      "metadata": {
        "colab": {
          "base_uri": "https://localhost:8080/"
        },
        "id": "ETdZZ6fYwI4Q",
        "outputId": "af37d5e0-3f4a-4295-8f3b-5b5b089c1250"
      },
      "execution_count": 7,
      "outputs": [
        {
          "output_type": "stream",
          "name": "stdout",
          "text": [
            "CV=5\n",
            "Best Params: {'pca__n_components': 3, 'classifier__n_estimators': 50, 'classifier__min_samples_split': 2, 'classifier__max_depth': 5}\n",
            "Train CV Score: 0.93\n",
            "Test Score: 0.90\n"
          ]
        }
      ]
    },
    {
      "cell_type": "markdown",
      "source": [],
      "metadata": {
        "id": "bjFC1V2kymzh"
      }
    },
    {
      "cell_type": "code",
      "source": [
        "search_7 = RandomizedSearchCV(\n",
        "    pipe, param_distributions=param_grid, cv=7, n_iter=10, random_state=42\n",
        ")\n",
        "search_7.fit(X_train, y_train)\n",
        "\n",
        "print(\"CV=7\")\n",
        "print(\"Best Params:\", search_7.best_params_)\n",
        "print(\"Train CV Score: {:.2f}\".format(search_7.best_score_))\n",
        "print(\"Test Score: {:.2f}\".format(search_7.score(X_test, y_test)))\n"
      ],
      "metadata": {
        "colab": {
          "base_uri": "https://localhost:8080/"
        },
        "id": "fT7hHKZIwTwp",
        "outputId": "1487547b-43d1-4436-ccff-b6edf9d4d8a6"
      },
      "execution_count": 8,
      "outputs": [
        {
          "output_type": "stream",
          "name": "stdout",
          "text": [
            "CV=7\n",
            "Best Params: {'pca__n_components': 3, 'classifier__n_estimators': 100, 'classifier__min_samples_split': 2, 'classifier__max_depth': 5}\n",
            "Train CV Score: 0.93\n",
            "Test Score: 0.93\n"
          ]
        }
      ]
    },
    {
      "cell_type": "markdown",
      "source": [
        "Logistic Regression - RandomizedSearchCV with 3, 5, and 7 Fold Cross-Validation\n",
        "\n",
        "In this section, we apply Logistic Regression on the Iris dataset using a pipeline that includes StandardScaler, PCA, and the classifier. We use RandomizedSearchCV to tune hyperparameters and evaluate performance using 3-fold, 5-fold, and 7-fold cross-validation.\n",
        "\n",
        "We compare:\n",
        "- Best parameters found\n",
        "- Cross-validation training accuracy\n",
        "- Final test accuracy on hold-out data\n"
      ],
      "metadata": {
        "id": "SWPZ-G0syrur"
      }
    },
    {
      "cell_type": "code",
      "source": [
        "import pandas as pd\n",
        "from sklearn.model_selection import train_test_split, RandomizedSearchCV\n",
        "from sklearn.pipeline import Pipeline\n",
        "from sklearn.preprocessing import StandardScaler\n",
        "from sklearn.decomposition import PCA\n",
        "from sklearn.linear_model import LogisticRegression\n",
        "from sklearn.metrics import accuracy_score\n",
        "\n",
        "# Load and prepare dataset\n",
        "df = pd.read_csv(\"/content/Iris.csv\")\n",
        "df = df.drop(columns=[\"Id\"], errors=\"ignore\")\n",
        "X = df.drop(\"Species\", axis=1)\n",
        "y = df[\"Species\"]\n",
        "X_train, X_test, y_train, y_test = train_test_split(X, y, test_size=0.2, stratify=y, random_state=42)\n"
      ],
      "metadata": {
        "id": "ws5hROhmyvua"
      },
      "execution_count": 9,
      "outputs": []
    },
    {
      "cell_type": "code",
      "source": [
        "# Pipeline and hyperparameter grid\n",
        "pipe = Pipeline([\n",
        "    (\"scaler\", StandardScaler()),\n",
        "    (\"pca\", PCA()),\n",
        "    (\"classifier\", LogisticRegression(max_iter=1000, random_state=42))\n",
        "])\n",
        "\n",
        "param_grid = {\n",
        "    \"pca__n_components\": [2, 3],\n",
        "    \"classifier__C\": [0.01, 0.1, 1, 10],\n",
        "    \"classifier__penalty\": [\"l2\"],\n",
        "    \"classifier__solver\": [\"lbfgs\", \"saga\"]\n",
        "}\n"
      ],
      "metadata": {
        "id": "88KfRfDUy2n5"
      },
      "execution_count": 10,
      "outputs": []
    },
    {
      "cell_type": "code",
      "source": [
        "for folds in [3, 5, 7]:\n",
        "    search = RandomizedSearchCV(pipe, param_distributions=param_grid, cv=folds, n_iter=10, random_state=42)\n",
        "    search.fit(X_train, y_train)\n",
        "\n",
        "    print(f\"\\nCV = {folds}\")\n",
        "    print(\"Best Params:\", search.best_params_)\n",
        "    print(\"Train CV Score: {:.2f}\".format(search.best_score_))\n",
        "    print(\"Test Score: {:.2f}\".format(search.score(X_test, y_test)))\n"
      ],
      "metadata": {
        "colab": {
          "base_uri": "https://localhost:8080/"
        },
        "id": "17Zi953My6Ts",
        "outputId": "026a7dda-0049-4f03-b924-2337c6fa42ff"
      },
      "execution_count": 11,
      "outputs": [
        {
          "output_type": "stream",
          "name": "stdout",
          "text": [
            "\n",
            "CV = 3\n",
            "Best Params: {'pca__n_components': 3, 'classifier__solver': 'lbfgs', 'classifier__penalty': 'l2', 'classifier__C': 10}\n",
            "Train CV Score: 0.96\n",
            "Test Score: 0.97\n",
            "\n",
            "CV = 5\n",
            "Best Params: {'pca__n_components': 3, 'classifier__solver': 'lbfgs', 'classifier__penalty': 'l2', 'classifier__C': 10}\n",
            "Train CV Score: 0.97\n",
            "Test Score: 0.97\n",
            "\n",
            "CV = 7\n",
            "Best Params: {'pca__n_components': 3, 'classifier__solver': 'lbfgs', 'classifier__penalty': 'l2', 'classifier__C': 10}\n",
            "Train CV Score: 0.97\n",
            "Test Score: 0.97\n"
          ]
        }
      ]
    },
    {
      "cell_type": "markdown",
      "source": [
        "Perceptron - RandomizedSearchCV with 3, 5, and 7 Fold Cross-Validation\n",
        "\n",
        "In this section, we apply the Perceptron classifier on the Iris dataset using a pipeline that includes StandardScaler, PCA, and the classifier. We use RandomizedSearchCV to explore hyperparameter combinations and evaluate performance with 3-fold, 5-fold, and 7-fold cross-validation.\n",
        "\n",
        "We will report:\n",
        "- Best hyperparameters\n",
        "- Training accuracy using cross-validation\n",
        "- Final test accuracy"
      ],
      "metadata": {
        "id": "bFFdsSYvzNmY"
      }
    },
    {
      "cell_type": "code",
      "source": [
        "import pandas as pd\n",
        "from sklearn.model_selection import train_test_split, RandomizedSearchCV\n",
        "from sklearn.pipeline import Pipeline\n",
        "from sklearn.preprocessing import StandardScaler\n",
        "from sklearn.decomposition import PCA\n",
        "from sklearn.linear_model import Perceptron\n",
        "from sklearn.metrics import accuracy_score\n",
        "\n",
        "# Load and prepare dataset\n",
        "df = pd.read_csv(\"/content/Iris.csv\")\n",
        "df = df.drop(columns=[\"Id\"], errors=\"ignore\")\n",
        "X = df.drop(\"Species\", axis=1)\n",
        "y = df[\"Species\"]\n",
        "X_train, X_test, y_train, y_test = train_test_split(X, y, test_size=0.2, stratify=y, random_state=42)\n"
      ],
      "metadata": {
        "id": "tasqoPJQzOxN"
      },
      "execution_count": 12,
      "outputs": []
    },
    {
      "cell_type": "code",
      "source": [
        "pipe = Pipeline([\n",
        "    (\"scaler\", StandardScaler()),\n",
        "    (\"pca\", PCA()),\n",
        "    (\"classifier\", Perceptron(random_state=42))\n",
        "])\n",
        "\n",
        "param_grid = {\n",
        "    \"pca__n_components\": [2, 3],\n",
        "    \"classifier__penalty\": [None, \"l2\", \"l1\", \"elasticnet\"],\n",
        "    \"classifier__alpha\": [0.0001, 0.001, 0.01],\n",
        "    \"classifier__max_iter\": [500, 1000]\n",
        "}\n"
      ],
      "metadata": {
        "id": "6cmZ5h_dzTsQ"
      },
      "execution_count": 13,
      "outputs": []
    },
    {
      "cell_type": "code",
      "source": [
        "for folds in [3, 5, 7]:\n",
        "    search = RandomizedSearchCV(pipe, param_distributions=param_grid, cv=folds, n_iter=10, random_state=42)\n",
        "    search.fit(X_train, y_train)\n",
        "\n",
        "    print(f\"\\nCV = {folds}\")\n",
        "    print(\"Best Params:\", search.best_params_)\n",
        "    print(\"Train CV Score: {:.2f}\".format(search.best_score_))\n",
        "    print(\"Test Score: {:.2f}\".format(search.score(X_test, y_test)))\n"
      ],
      "metadata": {
        "colab": {
          "base_uri": "https://localhost:8080/"
        },
        "id": "QM_Pf_k5zWgO",
        "outputId": "4f41a6c8-e29c-473d-93b5-f11b8794ff7e"
      },
      "execution_count": 14,
      "outputs": [
        {
          "output_type": "stream",
          "name": "stdout",
          "text": [
            "\n",
            "CV = 3\n",
            "Best Params: {'pca__n_components': 3, 'classifier__penalty': 'l2', 'classifier__max_iter': 1000, 'classifier__alpha': 0.001}\n",
            "Train CV Score: 0.90\n",
            "Test Score: 0.77\n",
            "\n",
            "CV = 5\n",
            "Best Params: {'pca__n_components': 3, 'classifier__penalty': 'l2', 'classifier__max_iter': 1000, 'classifier__alpha': 0.001}\n",
            "Train CV Score: 0.92\n",
            "Test Score: 0.77\n",
            "\n",
            "CV = 7\n",
            "Best Params: {'pca__n_components': 3, 'classifier__penalty': None, 'classifier__max_iter': 1000, 'classifier__alpha': 0.001}\n",
            "Train CV Score: 0.91\n",
            "Test Score: 0.77\n"
          ]
        }
      ]
    },
    {
      "cell_type": "markdown",
      "source": [
        "KNN - RandomizedSearchCV with 3, 5, and 7 Fold Cross-Validation\n",
        "\n",
        "In this section, we apply the KNN classifier on the Iris dataset using a pipeline that includes StandardScaler, PCA, and the classifier. We use RandomizedSearchCV to explore hyperparameter combinations and evaluate performance with 3-fold, 5-fold, and 7-fold cross-validation.\n",
        "\n",
        "We will report:\n",
        "\n",
        "Best hyperparameters\n",
        "Training accuracy using cross-validation\n",
        "Final test accuracy"
      ],
      "metadata": {
        "id": "sn6-i_Gv0IvQ"
      }
    },
    {
      "cell_type": "code",
      "source": [
        "import pandas as pd\n",
        "from sklearn.model_selection import train_test_split, RandomizedSearchCV\n",
        "from sklearn.pipeline import Pipeline\n",
        "from sklearn.preprocessing import StandardScaler\n",
        "from sklearn.decomposition import PCA\n",
        "from sklearn.neighbors import KNeighborsClassifier\n",
        "from sklearn.metrics import accuracy_score\n",
        "\n",
        "# Load and prepare dataset\n",
        "df = pd.read_csv(\"/content/Iris.csv\")\n",
        "df = df.drop(columns=[\"Id\"], errors=\"ignore\")\n",
        "target_column = \"Species\"\n",
        "\n",
        "X = df.drop(target_column, axis=1)\n",
        "y = df[target_column]\n",
        "\n",
        "X_train, X_test, y_train, y_test = train_test_split(\n",
        "    X, y, test_size=0.2, stratify=y, random_state=42\n",
        ")\n",
        "\n"
      ],
      "metadata": {
        "id": "C2ZNCMIY0Dvn"
      },
      "execution_count": 20,
      "outputs": []
    },
    {
      "cell_type": "code",
      "source": [
        "pipe = Pipeline([\n",
        "    (\"scaler\", StandardScaler()),\n",
        "    (\"pca\", PCA()),\n",
        "    (\"classifier\", KNeighborsClassifier())\n",
        "])\n",
        "\n",
        "param_grid = {\n",
        "    \"pca__n_components\": [2, 3, 4],\n",
        "    \"classifier__n_neighbors\": [3, 5, 7, 9],\n",
        "    \"classifier__weights\": [\"uniform\", \"distance\"],\n",
        "    \"classifier__p\": [1, 2]  # 1 = Manhattan distance, 2 = Euclidean distance\n",
        "}\n"
      ],
      "metadata": {
        "id": "0w5KJbSF1NFH"
      },
      "execution_count": 21,
      "outputs": []
    },
    {
      "cell_type": "code",
      "source": [
        "for folds in [3, 5, 7]:\n",
        "    search = RandomizedSearchCV(\n",
        "        pipe,\n",
        "        param_distributions=param_grid,\n",
        "        cv=folds,\n",
        "        n_iter=10,\n",
        "        random_state=42\n",
        "    )\n",
        "    search.fit(X_train, y_train)\n",
        "\n",
        "    print(f\"\\nCV = {folds}\")\n",
        "    print(\"Best Params:\", search.best_params_)\n",
        "    print(f\"Train CV Score: {search.best_score_:.2f}\")\n",
        "    print(f\"Test Score: {search.score(X_test, y_test):.2f}\")\n"
      ],
      "metadata": {
        "colab": {
          "base_uri": "https://localhost:8080/"
        },
        "id": "KZhgx8YZ1RMs",
        "outputId": "c209f5d2-c695-4d47-e36e-95bad5c8e939"
      },
      "execution_count": 22,
      "outputs": [
        {
          "output_type": "stream",
          "name": "stdout",
          "text": [
            "\n",
            "CV = 3\n",
            "Best Params: {'pca__n_components': 3, 'classifier__weights': 'distance', 'classifier__p': 1, 'classifier__n_neighbors': 3}\n",
            "Train CV Score: 0.97\n",
            "Test Score: 0.97\n",
            "\n",
            "CV = 5\n",
            "Best Params: {'pca__n_components': 3, 'classifier__weights': 'distance', 'classifier__p': 1, 'classifier__n_neighbors': 9}\n",
            "Train CV Score: 0.97\n",
            "Test Score: 0.97\n",
            "\n",
            "CV = 7\n",
            "Best Params: {'pca__n_components': 3, 'classifier__weights': 'distance', 'classifier__p': 1, 'classifier__n_neighbors': 9}\n",
            "Train CV Score: 0.96\n",
            "Test Score: 0.97\n"
          ]
        }
      ]
    }
  ]
}